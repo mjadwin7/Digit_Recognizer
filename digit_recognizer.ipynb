{
  "nbformat": 4,
  "nbformat_minor": 0,
  "metadata": {
    "colab": {
      "provenance": [],
      "gpuType": "T4",
      "machine_shape": "hm",
      "authorship_tag": "ABX9TyNuXgFYsboYTXtRoC9maAZf",
      "include_colab_link": true
    },
    "kernelspec": {
      "name": "python3",
      "display_name": "Python 3"
    },
    "language_info": {
      "name": "python"
    },
    "accelerator": "GPU"
  },
  "cells": [
    {
      "cell_type": "markdown",
      "metadata": {
        "id": "view-in-github",
        "colab_type": "text"
      },
      "source": [
        "<a href=\"https://colab.research.google.com/github/mjadwin7/Digit_Recognizer/blob/main/digit_recognizer.ipynb\" target=\"_parent\"><img src=\"https://colab.research.google.com/assets/colab-badge.svg\" alt=\"Open In Colab\"/></a>"
      ]
    },
    {
      "cell_type": "markdown",
      "source": [
        "# Mount Drive and Imports"
      ],
      "metadata": {
        "id": "opRXoqJaIJS1"
      }
    },
    {
      "cell_type": "code",
      "execution_count": 1,
      "metadata": {
        "colab": {
          "base_uri": "https://localhost:8080/"
        },
        "id": "iBshkWMTBjHv",
        "outputId": "ded8074e-c97c-4cdc-ee44-751df5eac702"
      },
      "outputs": [
        {
          "output_type": "stream",
          "name": "stdout",
          "text": [
            "Mounted at /content/drive\n"
          ]
        }
      ],
      "source": [
        "# prompt: mount my google drive\n",
        "import os\n",
        "from google.colab import drive\n",
        "drive.mount('/content/drive')\n",
        "os.chdir('/content/drive/MyDrive/Colab_Notebooks/Kaggle/Digit_Recognizer')"
      ]
    },
    {
      "cell_type": "code",
      "source": [
        "import torch\n",
        "import torch.nn as nn\n",
        "import torch.optim as optim\n",
        "from torch.utils.data import Dataset, DataLoader\n",
        "import pandas as pd\n",
        "import numpy as np\n",
        "from sklearn.model_selection import train_test_split\n",
        "from torchvision import transforms\n",
        "import matplotlib.pyplot as plt\n",
        "import random\n",
        "import csv"
      ],
      "metadata": {
        "id": "N6c5IKycCtcW"
      },
      "execution_count": 2,
      "outputs": []
    },
    {
      "cell_type": "markdown",
      "source": [
        "# Load Data"
      ],
      "metadata": {
        "id": "Ay2sStU8am2W"
      }
    },
    {
      "cell_type": "code",
      "source": [
        "# Load the dataset\n",
        "train = pd.read_csv('train.csv').reset_index(drop=True)\n",
        "test = pd.read_csv('test.csv').reset_index(drop=True)\n",
        "sample = pd.read_csv('sample_submission.csv')"
      ],
      "metadata": {
        "id": "sJfHRLHNasQQ"
      },
      "execution_count": 3,
      "outputs": []
    },
    {
      "cell_type": "markdown",
      "source": [
        "# Visualize Data"
      ],
      "metadata": {
        "id": "ch4kZvEcauZ9"
      }
    },
    {
      "cell_type": "code",
      "source": [
        "def display_random_image(df):\n",
        "    # Select a random row, ignoring the first column (label)\n",
        "    random_index = random.randint(0, len(df) - 1)\n",
        "    image_data = df.iloc[random_index, 1:].values  # Skip the label\n",
        "    image_data = image_data.reshape(28, 28).astype(np.uint8)\n",
        "\n",
        "    # Display the image\n",
        "    plt.imshow(image_data, cmap='gray')\n",
        "    plt.title(f\"Label: {df.iloc[random_index, 0]}\")\n",
        "    plt.axis('off')\n",
        "    plt.show()\n",
        "\n",
        "# Call the function to display a random image\n",
        "display_random_image(train)"
      ],
      "metadata": {
        "colab": {
          "base_uri": "https://localhost:8080/",
          "height": 427
        },
        "id": "YlfybB1Eav6y",
        "outputId": "76b8f83f-1e21-4886-dd4c-2c47a963815d"
      },
      "execution_count": 5,
      "outputs": [
        {
          "output_type": "display_data",
          "data": {
            "text/plain": [
              "<Figure size 640x480 with 1 Axes>"
            ],
            "image/png": "[encoded data removed]"
          },
          "metadata": {}
        }
      ]
    },
    {
      "cell_type": "markdown",
      "source": [
        "# Preprocess Data"
      ],
      "metadata": {
        "id": "IUvWhiASIlC1"
      }
    },
    {
      "cell_type": "code",
      "source": [
        "class TrainDataset(Dataset):\n",
        "    def __init__(self, dataframe, transform=None):\n",
        "        self.dataframe = dataframe\n",
        "        self.transform = transform\n",
        "\n",
        "    def __len__(self):\n",
        "        return len(self.dataframe)\n",
        "\n",
        "    def __getitem__(self, idx):\n",
        "        image = self.dataframe.iloc[idx, 1:].values.astype('float32').reshape(28, 28)  # Adjust shape as needed\n",
        "        label = self.dataframe.iloc[idx, 0]\n",
        "        if self.transform:\n",
        "            image = self.transform(image)\n",
        "        return image, label\n",
        "\n",
        "class TestDataset(Dataset):\n",
        "    def __init__(self, dataframe, transform=None):\n",
        "        self.dataframe = dataframe\n",
        "        self.transform = transform\n",
        "\n",
        "    def __len__(self):\n",
        "        return len(self.dataframe)\n",
        "\n",
        "    def __getitem__(self, idx):\n",
        "        image = self.dataframe.iloc[idx].values.astype('float32').reshape(28, 28)  # Adjust shape as needed\n",
        "        if self.transform:\n",
        "            image = self.transform(image)\n",
        "        return image"
      ],
      "metadata": {
        "id": "QPyQCcnG9B-O"
      },
      "execution_count": 6,
      "outputs": []
    },
    {
      "cell_type": "code",
      "source": [
        "# Split the dataset into training and validation sets\n",
        "train_data, val_data = train_test_split(train, test_size=0.05, random_state=42)\n",
        "\n",
        "# Define transformations\n",
        "transform = transforms.Compose([transforms.ToTensor()])\n",
        "\n",
        "# Create datasets\n",
        "train_dataset = TrainDataset(train_data, transform=transform)\n",
        "val_dataset = TrainDataset(val_data, transform=transform)\n",
        "test_dataset = TestDataset(test, transform=transform)  # Assuming 'test_df' is your test data dataframe\n",
        "\n",
        "batch_size = 64\n",
        "train_loader = torch.utils.data.DataLoader(train_dataset, batch_size=batch_size, shuffle=True)\n",
        "val_loader = torch.utils.data.DataLoader(val_dataset, batch_size=batch_size, shuffle=False)\n",
        "test_loader = torch.utils.data.DataLoader(test_dataset, batch_size=batch_size, shuffle=False)\n"
      ],
      "metadata": {
        "id": "PtAqCmKiIku6"
      },
      "execution_count": 7,
      "outputs": []
    },
    {
      "cell_type": "markdown",
      "source": [
        "# Define CNN"
      ],
      "metadata": {
        "id": "020pkT7kYoOU"
      }
    },
    {
      "cell_type": "code",
      "source": [
        "class DigitCNN(nn.Module):\n",
        "    def __init__(self):\n",
        "        super(DigitCNN, self).__init__()\n",
        "        self.conv1 = nn.Conv2d(1, 32, kernel_size=3, stride=1, padding=1)\n",
        "        self.conv2 = nn.Conv2d(32, 64, kernel_size=3, stride=1, padding=1)\n",
        "        self.fc1 = nn.Linear(7*7*64, 128)\n",
        "        self.fc2 = nn.Linear(128, 10)\n",
        "        self.dropout = nn.Dropout(0.5)\n",
        "        self.pool = nn.MaxPool2d(2, 2)\n",
        "\n",
        "    def forward(self, x):\n",
        "        x = torch.relu(self.conv1(x))\n",
        "        x = self.pool(x)\n",
        "        x = torch.relu(self.conv2(x))\n",
        "        x = self.pool(x)\n",
        "        x = x.view(-1, 7*7*64)\n",
        "        x = torch.relu(self.fc1(x))\n",
        "        x = self.dropout(x)\n",
        "        x = self.fc2(x)\n",
        "        return x\n",
        "\n",
        "model = DigitCNN()\n",
        "device = torch.device(\"cuda\" if torch.cuda.is_available() else \"cpu\")\n",
        "model.to(device)"
      ],
      "metadata": {
        "id": "aYvNh4VnE2AH",
        "colab": {
          "base_uri": "https://localhost:8080/"
        },
        "outputId": "2bd7683c-1300-4e14-b008-630c89c6987e"
      },
      "execution_count": 8,
      "outputs": [
        {
          "output_type": "execute_result",
          "data": {
            "text/plain": [
              "DigitCNN(\n",
              "  (conv1): Conv2d(1, 32, kernel_size=(3, 3), stride=(1, 1), padding=(1, 1))\n",
              "  (conv2): Conv2d(32, 64, kernel_size=(3, 3), stride=(1, 1), padding=(1, 1))\n",
              "  (fc1): Linear(in_features=3136, out_features=128, bias=True)\n",
              "  (fc2): Linear(in_features=128, out_features=10, bias=True)\n",
              "  (dropout): Dropout(p=0.5, inplace=False)\n",
              "  (pool): MaxPool2d(kernel_size=2, stride=2, padding=0, dilation=1, ceil_mode=False)\n",
              ")"
            ]
          },
          "metadata": {},
          "execution_count": 8
        }
      ]
    },
    {
      "cell_type": "code",
      "source": [
        "criterion = nn.CrossEntropyLoss()\n",
        "optimizer = optim.Adam(model.parameters(), lr=0.001)"
      ],
      "metadata": {
        "id": "DT4vvx4yF31e"
      },
      "execution_count": 9,
      "outputs": []
    },
    {
      "cell_type": "markdown",
      "source": [
        "# Train Model"
      ],
      "metadata": {
        "id": "6lnyw62HYsLO"
      }
    },
    {
      "cell_type": "code",
      "source": [
        "num_epochs = 20\n",
        "\n",
        "# Lists to keep track of metrics\n",
        "train_losses, val_losses = [], []\n",
        "train_accuracies, val_accuracies = [], []\n",
        "\n",
        "for epoch in range(num_epochs):\n",
        "    # Training phase\n",
        "    model.train()\n",
        "    train_loss = 0\n",
        "    correct_train = 0\n",
        "    total_train = 0\n",
        "    for data in train_loader:\n",
        "        inputs, labels = data\n",
        "        inputs, labels = inputs.to(device), labels.to(device)\n",
        "\n",
        "        optimizer.zero_grad()\n",
        "        outputs = model(inputs)\n",
        "        loss = criterion(outputs, labels)\n",
        "        loss.backward()\n",
        "        optimizer.step()\n",
        "\n",
        "        train_loss += loss.item()\n",
        "        _, predicted = torch.max(outputs.data, 1)\n",
        "        total_train += labels.size(0)\n",
        "        correct_train += (predicted == labels).sum().item()\n",
        "\n",
        "    train_losses.append(train_loss / len(train_loader))\n",
        "    train_accuracies.append(100. * correct_train / total_train)\n",
        "\n",
        "    # Validation phase\n",
        "    model.eval()\n",
        "    val_loss = 0\n",
        "    correct_val = 0\n",
        "    total_val = 0\n",
        "    with torch.no_grad():\n",
        "        for data in val_loader:\n",
        "            inputs, labels = data\n",
        "            inputs, labels = inputs.to(device), labels.to(device)\n",
        "            outputs = model(inputs)\n",
        "            val_loss += criterion(outputs, labels).item()\n",
        "            _, predicted = torch.max(outputs.data, 1)\n",
        "            total_val += labels.size(0)\n",
        "            correct_val += (predicted == labels).sum().item()\n",
        "\n",
        "    val_losses.append(val_loss / len(val_loader))\n",
        "    val_accuracies.append(100. * correct_val / total_val)\n",
        "\n",
        "    print(f'Epoch {epoch}, Training Loss: {train_losses[-1]}, Validation Loss: {val_losses[-1]}, Training Accuracy: {train_accuracies[-1]}%, Validation Accuracy: {val_accuracies[-1]}%')"
      ],
      "metadata": {
        "colab": {
          "base_uri": "https://localhost:8080/"
        },
        "id": "AaYDXNOF-arR",
        "outputId": "289e02c4-2df7-4ab9-9a43-aaab4c259ccf"
      },
      "execution_count": 23,
      "outputs": [
        {
          "output_type": "stream",
          "name": "stdout",
          "text": [
            "Epoch 0, Training Loss: 0.4763206895828868, Validation Loss: 0.12481293156319721, Training Accuracy: 89.30325814536342%, Validation Accuracy: 96.52380952380952%\n",
            "Epoch 1, Training Loss: 0.16682962766394782, Validation Loss: 0.06712166365292488, Training Accuracy: 95.08771929824562%, Validation Accuracy: 98.14285714285714%\n",
            "Epoch 2, Training Loss: 0.1276401951603102, Validation Loss: 0.05229205471616958, Training Accuracy: 96.15288220551379%, Validation Accuracy: 98.38095238095238%\n",
            "Epoch 3, Training Loss: 0.10564644933299114, Validation Loss: 0.06488640876628007, Training Accuracy: 96.84461152882206%, Validation Accuracy: 98.28571428571429%\n",
            "Epoch 4, Training Loss: 0.09893492472549088, Validation Loss: 0.05750654548010613, Training Accuracy: 97.10275689223057%, Validation Accuracy: 98.19047619047619%\n",
            "Epoch 5, Training Loss: 0.09077190195817728, Validation Loss: 0.0652739154602662, Training Accuracy: 97.26065162907268%, Validation Accuracy: 98.33333333333333%\n",
            "Epoch 6, Training Loss: 0.07958637132273558, Validation Loss: 0.04099800950004437, Training Accuracy: 97.54887218045113%, Validation Accuracy: 98.80952380952381%\n",
            "Epoch 7, Training Loss: 0.07345116949970058, Validation Loss: 0.05764559187537088, Training Accuracy: 97.71428571428571%, Validation Accuracy: 98.66666666666667%\n",
            "Epoch 8, Training Loss: 0.06693650613044902, Validation Loss: 0.05964529016196276, Training Accuracy: 97.95488721804512%, Validation Accuracy: 98.38095238095238%\n",
            "Epoch 9, Training Loss: 0.06373537547001316, Validation Loss: 0.04231540241986901, Training Accuracy: 98.02255639097744%, Validation Accuracy: 98.71428571428571%\n",
            "Epoch 10, Training Loss: 0.06213738327325047, Validation Loss: 0.045596313615643536, Training Accuracy: 98.1453634085213%, Validation Accuracy: 98.61904761904762%\n",
            "Epoch 11, Training Loss: 0.057911232844453944, Validation Loss: 0.05508603494363894, Training Accuracy: 98.1829573934837%, Validation Accuracy: 98.61904761904762%\n",
            "Epoch 12, Training Loss: 0.05528329650324173, Validation Loss: 0.07197228284167068, Training Accuracy: 98.3609022556391%, Validation Accuracy: 98.61904761904762%\n",
            "Epoch 13, Training Loss: 0.052846531419035246, Validation Loss: 0.05948193016944391, Training Accuracy: 98.2781954887218%, Validation Accuracy: 98.71428571428571%\n",
            "Epoch 14, Training Loss: 0.04891791051042487, Validation Loss: 0.05296888700633479, Training Accuracy: 98.43358395989975%, Validation Accuracy: 98.80952380952381%\n",
            "Epoch 15, Training Loss: 0.04709019772558466, Validation Loss: 0.07268207000665963, Training Accuracy: 98.6140350877193%, Validation Accuracy: 98.66666666666667%\n",
            "Epoch 16, Training Loss: 0.044033779701913855, Validation Loss: 0.07196699736690079, Training Accuracy: 98.58395989974937%, Validation Accuracy: 98.52380952380952%\n",
            "Epoch 17, Training Loss: 0.05127894473864613, Validation Loss: 0.07702999630725682, Training Accuracy: 98.50877192982456%, Validation Accuracy: 98.52380952380952%\n",
            "Epoch 18, Training Loss: 0.04092145910024159, Validation Loss: 0.0793281978024452, Training Accuracy: 98.71679197994987%, Validation Accuracy: 98.9047619047619%\n",
            "Epoch 19, Training Loss: 0.044866018821943354, Validation Loss: 0.06636364151723462, Training Accuracy: 98.6641604010025%, Validation Accuracy: 98.42857142857143%\n"
          ]
        }
      ]
    },
    {
      "cell_type": "code",
      "source": [
        "# Plot training and validation loss\n",
        "plt.figure(figsize=(10, 5))\n",
        "plt.plot(train_losses, label='Training Loss')\n",
        "plt.plot(val_losses, label='Validation Loss')\n",
        "plt.title('Training and Validation Loss')\n",
        "plt.xlabel('Epochs')\n",
        "plt.ylabel('Loss')\n",
        "plt.legend()\n",
        "plt.show()\n",
        "\n",
        "# Plot training and validation accuracy\n",
        "plt.figure(figsize=(10, 5))\n",
        "plt.plot(train_accuracies, label='Training Accuracy')\n",
        "plt.plot(val_accuracies, label='Validation Accuracy')\n",
        "plt.title('Training and Validation Accuracy')\n",
        "plt.xlabel('Epochs')\n",
        "plt.ylabel('Accuracy (%)')\n",
        "plt.legend()"
      ],
      "metadata": {
        "colab": {
          "base_uri": "https://localhost:8080/",
          "height": 974
        },
        "id": "Kr0wf2zA_Rwp",
        "outputId": "73ae0322-6974-4256-9a41-eacf32e0cf92"
      },
      "execution_count": 24,
      "outputs": [
        {
          "output_type": "display_data",
          "data": {
            "text/plain": [
              "<Figure size 1000x500 with 1 Axes>"
            ],
            "image/png": "[encoded data removed]"
          },
          "metadata": {}
        },
        {
          "output_type": "execute_result",
          "data": {
            "text/plain": [
              "<matplotlib.legend.Legend at 0x7dd627e20130>"
            ]
          },
          "metadata": {},
          "execution_count": 24
        },
        {
          "output_type": "display_data",
          "data": {
            "text/plain": [
              "<Figure size 1000x500 with 1 Axes>"
            ],
            "image/png": "[encoded data removed]"
          },
          "metadata": {}
        }
      ]
    },
    {
      "cell_type": "markdown",
      "source": [
        "# Predict Test Set"
      ],
      "metadata": {
        "id": "6-kVQW8OZDrt"
      }
    },
    {
      "cell_type": "code",
      "source": [
        "predictions = []\n",
        "with torch.no_grad():\n",
        "    for data in test_loader:\n",
        "        data = data.to(device)\n",
        "        outputs = model(data)\n",
        "        _, predicted = torch.max(outputs.data, 1)\n",
        "        predictions.extend(predicted.cpu().numpy())"
      ],
      "metadata": {
        "id": "u7an1PLqR8YG"
      },
      "execution_count": 25,
      "outputs": []
    },
    {
      "cell_type": "code",
      "source": [
        "# Save the entire model\n",
        "torch.save(model, 'model.pth')"
      ],
      "metadata": {
        "id": "x8JFYcNuXbpL"
      },
      "execution_count": 27,
      "outputs": []
    },
    {
      "cell_type": "code",
      "source": [
        "with open('submission.csv', 'w', newline='') as file:\n",
        "    writer = csv.writer(file)\n",
        "\n",
        "    # Write the list to the file\n",
        "    for item in predictions:\n",
        "        writer.writerow([item])"
      ],
      "metadata": {
        "id": "fJ2Tco14ATB1"
      },
      "execution_count": 30,
      "outputs": []
    },
    {
      "cell_type": "markdown",
      "source": [
        "# Load Saved Model"
      ],
      "metadata": {
        "id": "kExd2GyBaZt9"
      }
    },
    {
      "cell_type": "code",
      "source": [
        "model = torch.load('model.pth')\n",
        "\n",
        "model.eval()\n",
        "\n",
        "random_number = random.randint(0, 63)\n",
        "\n",
        "with torch.no_grad():\n",
        "  # Iterate over the DataLoader\n",
        "  for inputs in test_loader:\n",
        "      # Move inputs and targets to the same device as your model (e.g., GPU)\n",
        "      inputs = inputs.to(device)\n",
        "\n",
        "      # Forward pass: Compute predicted outputs by passing inputs to the model\n",
        "      outputs = model(inputs[random_number])\n",
        "      _, predicted = torch.max(outputs.data, 1)\n",
        "      # At this point, you can compare outputs to targets, calculate accuracy, etc.\n",
        "      # For example, if it's a classification task:\n",
        "      # _, predicted = torch.max(outputs.data, 1)\n",
        "      # accuracy = (predicted == targets).sum().item() / targets.size(0)\n",
        "\n",
        "      # Break after the first batch\n",
        "      break\n",
        "\n",
        "# Display the image\n",
        "image = inputs[random_number].cpu().numpy()\n",
        "if image.shape[0] == 1:\n",
        "    image = image.squeeze(0)\n",
        "\n",
        "plt.imshow(image, cmap='gray')\n",
        "plt.title(f\"Label: {predicted.item()}\")\n",
        "plt.axis('off')\n",
        "plt.show()"
      ],
      "metadata": {
        "colab": {
          "base_uri": "https://localhost:8080/",
          "height": 427
        },
        "id": "SLS8Z2oHbHvn",
        "outputId": "25ebf2e7-3a08-403f-ed08-a023885cd55d"
      },
      "execution_count": 14,
      "outputs": [
        {
          "output_type": "display_data",
          "data": {
            "text/plain": [
              "<Figure size 640x480 with 1 Axes>"
            ],
            "image/png": "[encoded data removed]"
          },
          "metadata": {}
        }
      ]
    },
    {
      "cell_type": "code",
      "source": [],
      "metadata": {
        "id": "BV1gk0x0b45n"
      },
      "execution_count": 23,
      "outputs": []
    }
  ]
}